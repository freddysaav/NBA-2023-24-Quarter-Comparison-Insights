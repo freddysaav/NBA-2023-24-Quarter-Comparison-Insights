{
 "cells": [
  {
   "cell_type": "markdown",
   "metadata": {},
   "source": [
    "# Web scraping from www.nba.com/stats"
   ]
  },
  {
   "cell_type": "markdown",
   "metadata": {},
   "source": [
    "- I want to extract the data from each quarter of the 2023/2024 NBA season and store it in four separate data frames.\n",
    " - For example, dataframe2 will contain all the data from the second quarter of each game of the season.\n",
    "- Since nba.com is a JavaScript-based website, I will use Selenium to perform the extraction."
   ]
  },
  {
   "cell_type": "code",
   "execution_count": 1,
   "metadata": {},
   "outputs": [],
   "source": [
    "import html5lib\n",
    "from pandas.io.html import read_html\n",
    "import numpy as np\n",
    "import pandas as pd\n",
    "from selenium import webdriver"
   ]
  },
  {
   "cell_type": "markdown",
   "metadata": {},
   "source": [
    "Set the Webdriver"
   ]
  },
  {
   "cell_type": "code",
   "execution_count": 2,
   "metadata": {
    "scrolled": true
   },
   "outputs": [
    {
     "name": "stderr",
     "output_type": "stream",
     "text": [
      "C:\\Users\\fre_d\\AppData\\Local\\Temp/ipykernel_21268/2881526903.py:4: DeprecationWarning: use options instead of chrome_options\n",
      "  driver = webdriver.Chrome(chrome_driver_binary, chrome_options=options)\n"
     ]
    }
   ],
   "source": [
    "options = webdriver.ChromeOptions()\n",
    "options.binary_location = \"C:/Users/fre_d/OneDrive/Documentos/chrome-win64/chrome.exe\"\n",
    "chrome_driver_binary = \"C:/Users/fre_d/OneDrive/Documentos/chromedriver-win64/chromedriver\"\n",
    "driver = webdriver.Chrome(chrome_driver_binary, chrome_options=options)\n",
    "driver.maximize_window()"
   ]
  },
  {
   "cell_type": "markdown",
   "metadata": {},
   "source": [
    "- I filter every quarter of the matches.\n",
    "- Once the web controller accesses the target site, we set the controller to wait for 10 seconds, which helps to avoid errors.\n",
    "- Then, the controller can select the “All” option from the drop-down menu on the page using XPath, which will display all the rows of the table on a single page.\n",
    "- Through the class ID, the controller finds this table.\n",
    "- Then, it converts the table from JavaScript to HTML.\n",
    "- Now, pandas can convert it into a DataFrame.\n",
    "- At the end, the DataFrame will be added to the empty dictionary."
   ]
  },
  {
   "cell_type": "code",
   "execution_count": 3,
   "metadata": {},
   "outputs": [],
   "source": [
    "df = {}\n",
    "for i in range(1,5):\n",
    "    driver.get(\"https://www.nba.com/stats/teams/boxscores-traditional?Season=2023-24&Period=\"+str(i)+\"&SeasonType=Regular+Season\")\n",
    "    driver.implicitly_wait(20)\n",
    "    all_pages = driver.find_element_by_xpath(\"/html/body/div[1]/div[2]/div[2]/div[3]/section[2]/div/div[2]/div[2]/div[1]/div[3]/div/label/div/select/option[1]\")\n",
    "    all_pages.click()\n",
    "    table = driver.find_elements_by_class_name(\"Crom_table__p1iZz\")\n",
    "    table_html = table[0].get_attribute('outerHTML')\n",
    "    df[i] = read_html(table_html)[0]\n",
    "    \n",
    "driver.quit()    "
   ]
  },
  {
   "cell_type": "markdown",
   "metadata": {},
   "source": [
    "#### Control of the data:\n",
    "- The data looks good, organized, and clean\n",
    "- Only some data cleaning is necessary"
   ]
  },
  {
   "cell_type": "code",
   "execution_count": 4,
   "metadata": {},
   "outputs": [
    {
     "data": {
      "text/html": [
       "<div>\n",
       "<style scoped>\n",
       "    .dataframe tbody tr th:only-of-type {\n",
       "        vertical-align: middle;\n",
       "    }\n",
       "\n",
       "    .dataframe tbody tr th {\n",
       "        vertical-align: top;\n",
       "    }\n",
       "\n",
       "    .dataframe thead th {\n",
       "        text-align: right;\n",
       "    }\n",
       "</style>\n",
       "<table border=\"1\" class=\"dataframe\">\n",
       "  <thead>\n",
       "    <tr style=\"text-align: right;\">\n",
       "      <th></th>\n",
       "      <th>TEAM</th>\n",
       "      <th>MATCH UP</th>\n",
       "      <th>GAME DATE</th>\n",
       "      <th>W/L</th>\n",
       "      <th>MIN</th>\n",
       "      <th>PTS</th>\n",
       "      <th>FGM</th>\n",
       "      <th>FGA</th>\n",
       "      <th>FG%</th>\n",
       "      <th>3PM</th>\n",
       "      <th>...</th>\n",
       "      <th>FT%</th>\n",
       "      <th>OREB</th>\n",
       "      <th>DREB</th>\n",
       "      <th>REB</th>\n",
       "      <th>AST</th>\n",
       "      <th>TOV</th>\n",
       "      <th>STL</th>\n",
       "      <th>BLK</th>\n",
       "      <th>PF</th>\n",
       "      <th>+/-</th>\n",
       "    </tr>\n",
       "  </thead>\n",
       "  <tbody>\n",
       "    <tr>\n",
       "      <th>0</th>\n",
       "      <td>POR</td>\n",
       "      <td>POR @ SAC</td>\n",
       "      <td>04/14/2024</td>\n",
       "      <td>L</td>\n",
       "      <td>12</td>\n",
       "      <td>18</td>\n",
       "      <td>6</td>\n",
       "      <td>28</td>\n",
       "      <td>21.4</td>\n",
       "      <td>1</td>\n",
       "      <td>...</td>\n",
       "      <td>100.0</td>\n",
       "      <td>9</td>\n",
       "      <td>8</td>\n",
       "      <td>17</td>\n",
       "      <td>4</td>\n",
       "      <td>6</td>\n",
       "      <td>5</td>\n",
       "      <td>0</td>\n",
       "      <td>5</td>\n",
       "      <td>-12</td>\n",
       "    </tr>\n",
       "    <tr>\n",
       "      <th>1</th>\n",
       "      <td>SAC</td>\n",
       "      <td>SAC vs. POR</td>\n",
       "      <td>04/14/2024</td>\n",
       "      <td>W</td>\n",
       "      <td>12</td>\n",
       "      <td>30</td>\n",
       "      <td>11</td>\n",
       "      <td>18</td>\n",
       "      <td>61.1</td>\n",
       "      <td>3</td>\n",
       "      <td>...</td>\n",
       "      <td>71.4</td>\n",
       "      <td>0</td>\n",
       "      <td>10</td>\n",
       "      <td>10</td>\n",
       "      <td>8</td>\n",
       "      <td>5</td>\n",
       "      <td>5</td>\n",
       "      <td>1</td>\n",
       "      <td>5</td>\n",
       "      <td>12</td>\n",
       "    </tr>\n",
       "    <tr>\n",
       "      <th>2</th>\n",
       "      <td>CHI</td>\n",
       "      <td>CHI @ NYK</td>\n",
       "      <td>04/14/2024</td>\n",
       "      <td>L</td>\n",
       "      <td>12</td>\n",
       "      <td>28</td>\n",
       "      <td>12</td>\n",
       "      <td>18</td>\n",
       "      <td>66.7</td>\n",
       "      <td>3</td>\n",
       "      <td>...</td>\n",
       "      <td>50.0</td>\n",
       "      <td>1</td>\n",
       "      <td>5</td>\n",
       "      <td>6</td>\n",
       "      <td>6</td>\n",
       "      <td>5</td>\n",
       "      <td>4</td>\n",
       "      <td>2</td>\n",
       "      <td>3</td>\n",
       "      <td>-1</td>\n",
       "    </tr>\n",
       "    <tr>\n",
       "      <th>3</th>\n",
       "      <td>DAL</td>\n",
       "      <td>DAL @ OKC</td>\n",
       "      <td>04/14/2024</td>\n",
       "      <td>L</td>\n",
       "      <td>12</td>\n",
       "      <td>22</td>\n",
       "      <td>7</td>\n",
       "      <td>19</td>\n",
       "      <td>36.8</td>\n",
       "      <td>3</td>\n",
       "      <td>...</td>\n",
       "      <td>71.4</td>\n",
       "      <td>0</td>\n",
       "      <td>7</td>\n",
       "      <td>7</td>\n",
       "      <td>5</td>\n",
       "      <td>7</td>\n",
       "      <td>1</td>\n",
       "      <td>0</td>\n",
       "      <td>3</td>\n",
       "      <td>-17</td>\n",
       "    </tr>\n",
       "    <tr>\n",
       "      <th>4</th>\n",
       "      <td>MEM</td>\n",
       "      <td>MEM vs. DEN</td>\n",
       "      <td>04/14/2024</td>\n",
       "      <td>L</td>\n",
       "      <td>12</td>\n",
       "      <td>26</td>\n",
       "      <td>12</td>\n",
       "      <td>31</td>\n",
       "      <td>38.7</td>\n",
       "      <td>1</td>\n",
       "      <td>...</td>\n",
       "      <td>50.0</td>\n",
       "      <td>8</td>\n",
       "      <td>9</td>\n",
       "      <td>17</td>\n",
       "      <td>5</td>\n",
       "      <td>3</td>\n",
       "      <td>2</td>\n",
       "      <td>1</td>\n",
       "      <td>4</td>\n",
       "      <td>-3</td>\n",
       "    </tr>\n",
       "  </tbody>\n",
       "</table>\n",
       "<p>5 rows × 24 columns</p>\n",
       "</div>"
      ],
      "text/plain": [
       "  TEAM     MATCH UP   GAME DATE W/L  MIN  PTS  FGM  FGA   FG%  3PM  ...  \\\n",
       "0  POR    POR @ SAC  04/14/2024   L   12   18    6   28  21.4    1  ...   \n",
       "1  SAC  SAC vs. POR  04/14/2024   W   12   30   11   18  61.1    3  ...   \n",
       "2  CHI    CHI @ NYK  04/14/2024   L   12   28   12   18  66.7    3  ...   \n",
       "3  DAL    DAL @ OKC  04/14/2024   L   12   22    7   19  36.8    3  ...   \n",
       "4  MEM  MEM vs. DEN  04/14/2024   L   12   26   12   31  38.7    1  ...   \n",
       "\n",
       "     FT%  OREB  DREB  REB  AST  TOV  STL  BLK  PF  +/-  \n",
       "0  100.0     9     8   17    4    6    5    0   5  -12  \n",
       "1   71.4     0    10   10    8    5    5    1   5   12  \n",
       "2   50.0     1     5    6    6    5    4    2   3   -1  \n",
       "3   71.4     0     7    7    5    7    1    0   3  -17  \n",
       "4   50.0     8     9   17    5    3    2    1   4   -3  \n",
       "\n",
       "[5 rows x 24 columns]"
      ]
     },
     "execution_count": 4,
     "metadata": {},
     "output_type": "execute_result"
    }
   ],
   "source": [
    "df[1].head()"
   ]
  },
  {
   "cell_type": "code",
   "execution_count": 5,
   "metadata": {},
   "outputs": [],
   "source": [
    "NBA_1st = df[1]\n",
    "NBA_2nd = df[2]\n",
    "NBA_3rd = df[3]\n",
    "NBA_4th = df[4]"
   ]
  },
  {
   "cell_type": "markdown",
   "metadata": {},
   "source": [
    "Saved the data frames to a CSV file"
   ]
  },
  {
   "cell_type": "code",
   "execution_count": 6,
   "metadata": {},
   "outputs": [],
   "source": [
    "NBA_1st.to_csv(\"data/NBA_1st.csv\", index = False)\n",
    "NBA_2nd.to_csv(\"data/NBA_2nd.csv\", index = False)\n",
    "NBA_3rd.to_csv(\"data/NBA_3rd.csv\", index = False)\n",
    "NBA_4th.to_csv(\"data/NBA_4th.csv\", index = False)"
   ]
  }
 ],
 "metadata": {
  "kernelspec": {
   "display_name": "Python 3 (ipykernel)",
   "language": "python",
   "name": "python3"
  },
  "language_info": {
   "codemirror_mode": {
    "name": "ipython",
    "version": 3
   },
   "file_extension": ".py",
   "mimetype": "text/x-python",
   "name": "python",
   "nbconvert_exporter": "python",
   "pygments_lexer": "ipython3",
   "version": "3.9.7"
  }
 },
 "nbformat": 4,
 "nbformat_minor": 4
}
