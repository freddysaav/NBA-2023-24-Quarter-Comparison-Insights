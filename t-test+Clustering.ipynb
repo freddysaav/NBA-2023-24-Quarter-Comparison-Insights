{
 "cells": [
  {
   "cell_type": "markdown",
   "metadata": {},
   "source": [
    "# Hypothesis test + Clustering"
   ]
  },
  {
   "cell_type": "markdown",
   "metadata": {},
   "source": [
    "### 2 sample t-test"
   ]
  },
  {
   "cell_type": "code",
   "execution_count": 1,
   "metadata": {},
   "outputs": [],
   "source": [
    "import pandas as pd\n",
    "import numpy as np\n",
    "import scipy.stats as stats\n",
    "from sklearn.cluster import KMeans\n",
    "import matplotlib.pyplot as plt"
   ]
  },
  {
   "cell_type": "code",
   "execution_count": 2,
   "metadata": {},
   "outputs": [],
   "source": [
    "NBA_4th = pd.read_csv(\"data/NBA_4th_comp.csv\")\n",
    "first_3 = pd.read_csv(\"data/first_3_comp.csv\")"
   ]
  },
  {
   "cell_type": "code",
   "execution_count": 3,
   "metadata": {},
   "outputs": [
    {
     "data": {
      "text/plain": [
       "Index(['index', 'TEAM', 'MATCH UP', 'GAME DATE', 'W/L', 'MIN', 'PTS', 'FGM',\n",
       "       'FGA', 'FG%', '3PM', '3PA', '3P%', 'FTM', 'FTA', 'FT%', 'OREB', 'DREB',\n",
       "       'REB', 'AST', 'TOV', 'STL', 'BLK', 'PF', '+/-', 'COURT', 'Opponent',\n",
       "       'OppPTS', 'OppFGM', 'OppFGA', 'OppFG%', 'Opp3PM', 'Opp3PA', 'Opp3P%',\n",
       "       'OppFTM', 'OppFTA', 'OppFT%', 'OppOREB', 'OppDREB', 'OppREB', 'OppAST',\n",
       "       'OppTOV', 'OppSTL', 'OppBLK', 'OppPF', 'Pos', 'OppPos', 'Pace',\n",
       "       'OFFRTG', 'DEFRTG', 'Margin', 'formatted_date', 'week_of_season',\n",
       "       'PTS/Q'],\n",
       "      dtype='object')"
      ]
     },
     "execution_count": 3,
     "metadata": {},
     "output_type": "execute_result"
    }
   ],
   "source": [
    "first_3.columns"
   ]
  },
  {
   "cell_type": "markdown",
   "metadata": {},
   "source": [
    "H0: first 3 quarter = 4th quarter"
   ]
  },
  {
   "cell_type": "code",
   "execution_count": 4,
   "metadata": {},
   "outputs": [
    {
     "name": "stdout",
     "output_type": "stream",
     "text": [
      "p value for Pace: 5.410633976633586e-96 and the statistic: -21.347123622937794\n",
      "p value for OFFRTG: 0.004838086722404326 and the statistic: 2.8191479560552635\n",
      "p value for DEFRTG: 0.004838086722404326 and the statistic: 2.8191479560552635\n",
      "p value for 3P%: 0.0 and the statistic: 88.59857439755925\n",
      "p value for AST: 0.0 and the statistic: -141.50599947239903\n",
      "p value for FT%: nan and the statistic: nan\n"
     ]
    }
   ],
   "source": [
    "columns = ['Pace','OFFRTG','DEFRTG',\"3P%\",\"AST\",'FT%']\n",
    "for col in columns:\n",
    "    t_stat, p_val = stats.ttest_ind(NBA_4th[col], first_3[col])\n",
    "    print(\"p value for %s: \" % (col) + str(p_val) +\" and the statistic: \" + str(t_stat))"
   ]
  },
  {
   "cell_type": "markdown",
   "metadata": {},
   "source": [
    "- Reject H0 at the 95% confidence interval for Pace, AST, 3P%, 'PTS', 'FT%\n",
    "- Can´t reject H0 for DEFRTG and OFFRTG"
   ]
  },
  {
   "cell_type": "markdown",
   "metadata": {},
   "source": [
    "### KMeans Clustering"
   ]
  },
  {
   "cell_type": "code",
   "execution_count": 5,
   "metadata": {},
   "outputs": [
    {
     "data": {
      "text/html": [
       "<div>\n",
       "<style scoped>\n",
       "    .dataframe tbody tr th:only-of-type {\n",
       "        vertical-align: middle;\n",
       "    }\n",
       "\n",
       "    .dataframe tbody tr th {\n",
       "        vertical-align: top;\n",
       "    }\n",
       "\n",
       "    .dataframe thead th {\n",
       "        text-align: right;\n",
       "    }\n",
       "</style>\n",
       "<table border=\"1\" class=\"dataframe\">\n",
       "  <thead>\n",
       "    <tr style=\"text-align: right;\">\n",
       "      <th></th>\n",
       "      <th>DEFRTG</th>\n",
       "      <th>OFFRTG</th>\n",
       "      <th>DEFRTG_4th</th>\n",
       "      <th>OFFRTG_4th</th>\n",
       "    </tr>\n",
       "    <tr>\n",
       "      <th>TEAM</th>\n",
       "      <th></th>\n",
       "      <th></th>\n",
       "      <th></th>\n",
       "      <th></th>\n",
       "    </tr>\n",
       "  </thead>\n",
       "  <tbody>\n",
       "    <tr>\n",
       "      <th>ATL</th>\n",
       "      <td>119.079685</td>\n",
       "      <td>118.099391</td>\n",
       "      <td>119.521360</td>\n",
       "      <td>117.226451</td>\n",
       "    </tr>\n",
       "    <tr>\n",
       "      <th>BKN</th>\n",
       "      <td>115.072300</td>\n",
       "      <td>113.507262</td>\n",
       "      <td>116.530290</td>\n",
       "      <td>116.822819</td>\n",
       "    </tr>\n",
       "    <tr>\n",
       "      <th>BOS</th>\n",
       "      <td>113.140146</td>\n",
       "      <td>121.705534</td>\n",
       "      <td>114.179364</td>\n",
       "      <td>118.974564</td>\n",
       "    </tr>\n",
       "    <tr>\n",
       "      <th>CHA</th>\n",
       "      <td>118.156950</td>\n",
       "      <td>109.893448</td>\n",
       "      <td>120.792651</td>\n",
       "      <td>118.644274</td>\n",
       "    </tr>\n",
       "    <tr>\n",
       "      <th>CHI</th>\n",
       "      <td>115.683230</td>\n",
       "      <td>114.266850</td>\n",
       "      <td>120.344191</td>\n",
       "      <td>118.987953</td>\n",
       "    </tr>\n",
       "    <tr>\n",
       "      <th>CLE</th>\n",
       "      <td>112.581918</td>\n",
       "      <td>114.127385</td>\n",
       "      <td>114.656883</td>\n",
       "      <td>116.373629</td>\n",
       "    </tr>\n",
       "    <tr>\n",
       "      <th>DAL</th>\n",
       "      <td>116.163985</td>\n",
       "      <td>116.327075</td>\n",
       "      <td>117.847457</td>\n",
       "      <td>118.221220</td>\n",
       "    </tr>\n",
       "    <tr>\n",
       "      <th>DEN</th>\n",
       "      <td>114.194702</td>\n",
       "      <td>118.386920</td>\n",
       "      <td>112.865414</td>\n",
       "      <td>117.902310</td>\n",
       "    </tr>\n",
       "    <tr>\n",
       "      <th>DET</th>\n",
       "      <td>117.069504</td>\n",
       "      <td>111.380757</td>\n",
       "      <td>118.299949</td>\n",
       "      <td>111.720484</td>\n",
       "    </tr>\n",
       "    <tr>\n",
       "      <th>GSW</th>\n",
       "      <td>113.617552</td>\n",
       "      <td>118.304657</td>\n",
       "      <td>120.264725</td>\n",
       "      <td>119.972529</td>\n",
       "    </tr>\n",
       "    <tr>\n",
       "      <th>HOU</th>\n",
       "      <td>113.729871</td>\n",
       "      <td>112.087248</td>\n",
       "      <td>114.998123</td>\n",
       "      <td>117.021937</td>\n",
       "    </tr>\n",
       "    <tr>\n",
       "      <th>IND</th>\n",
       "      <td>118.049208</td>\n",
       "      <td>121.088713</td>\n",
       "      <td>117.189517</td>\n",
       "      <td>119.216601</td>\n",
       "    </tr>\n",
       "    <tr>\n",
       "      <th>LAC</th>\n",
       "      <td>115.049436</td>\n",
       "      <td>117.154752</td>\n",
       "      <td>119.789668</td>\n",
       "      <td>121.657790</td>\n",
       "    </tr>\n",
       "    <tr>\n",
       "      <th>LAL</th>\n",
       "      <td>115.960378</td>\n",
       "      <td>115.640786</td>\n",
       "      <td>115.785003</td>\n",
       "      <td>116.157253</td>\n",
       "    </tr>\n",
       "    <tr>\n",
       "      <th>MEM</th>\n",
       "      <td>112.786556</td>\n",
       "      <td>107.125276</td>\n",
       "      <td>110.079651</td>\n",
       "      <td>112.737351</td>\n",
       "    </tr>\n",
       "    <tr>\n",
       "      <th>MIA</th>\n",
       "      <td>112.010530</td>\n",
       "      <td>114.704496</td>\n",
       "      <td>116.677311</td>\n",
       "      <td>108.041507</td>\n",
       "    </tr>\n",
       "    <tr>\n",
       "      <th>MIL</th>\n",
       "      <td>115.329473</td>\n",
       "      <td>116.509026</td>\n",
       "      <td>119.540128</td>\n",
       "      <td>122.807312</td>\n",
       "    </tr>\n",
       "    <tr>\n",
       "      <th>MIN</th>\n",
       "      <td>109.133051</td>\n",
       "      <td>114.588318</td>\n",
       "      <td>111.358294</td>\n",
       "      <td>116.681798</td>\n",
       "    </tr>\n",
       "    <tr>\n",
       "      <th>NOP</th>\n",
       "      <td>111.863725</td>\n",
       "      <td>115.581748</td>\n",
       "      <td>118.992810</td>\n",
       "      <td>115.999307</td>\n",
       "    </tr>\n",
       "    <tr>\n",
       "      <th>NYK</th>\n",
       "      <td>116.116599</td>\n",
       "      <td>116.457204</td>\n",
       "      <td>113.008787</td>\n",
       "      <td>119.673729</td>\n",
       "    </tr>\n",
       "    <tr>\n",
       "      <th>OKC</th>\n",
       "      <td>113.755800</td>\n",
       "      <td>116.749392</td>\n",
       "      <td>116.492272</td>\n",
       "      <td>123.751331</td>\n",
       "    </tr>\n",
       "    <tr>\n",
       "      <th>ORL</th>\n",
       "      <td>112.217713</td>\n",
       "      <td>113.484202</td>\n",
       "      <td>111.370580</td>\n",
       "      <td>115.246309</td>\n",
       "    </tr>\n",
       "    <tr>\n",
       "      <th>PHI</th>\n",
       "      <td>114.393253</td>\n",
       "      <td>116.499087</td>\n",
       "      <td>116.720634</td>\n",
       "      <td>116.849175</td>\n",
       "    </tr>\n",
       "    <tr>\n",
       "      <th>PHX</th>\n",
       "      <td>116.040821</td>\n",
       "      <td>118.706387</td>\n",
       "      <td>116.933183</td>\n",
       "      <td>110.940465</td>\n",
       "    </tr>\n",
       "    <tr>\n",
       "      <th>POR</th>\n",
       "      <td>117.328867</td>\n",
       "      <td>112.263105</td>\n",
       "      <td>113.013262</td>\n",
       "      <td>107.060348</td>\n",
       "    </tr>\n",
       "    <tr>\n",
       "      <th>SAC</th>\n",
       "      <td>113.370081</td>\n",
       "      <td>117.058923</td>\n",
       "      <td>120.436177</td>\n",
       "      <td>115.967401</td>\n",
       "    </tr>\n",
       "    <tr>\n",
       "      <th>SAS</th>\n",
       "      <td>114.470445</td>\n",
       "      <td>109.858074</td>\n",
       "      <td>119.592669</td>\n",
       "      <td>118.870336</td>\n",
       "    </tr>\n",
       "    <tr>\n",
       "      <th>TOR</th>\n",
       "      <td>116.290064</td>\n",
       "      <td>112.844952</td>\n",
       "      <td>121.102819</td>\n",
       "      <td>117.457126</td>\n",
       "    </tr>\n",
       "    <tr>\n",
       "      <th>UTA</th>\n",
       "      <td>120.631265</td>\n",
       "      <td>115.922377</td>\n",
       "      <td>117.975687</td>\n",
       "      <td>119.088192</td>\n",
       "    </tr>\n",
       "    <tr>\n",
       "      <th>WAS</th>\n",
       "      <td>118.408099</td>\n",
       "      <td>111.236152</td>\n",
       "      <td>115.868746</td>\n",
       "      <td>112.082895</td>\n",
       "    </tr>\n",
       "  </tbody>\n",
       "</table>\n",
       "</div>"
      ],
      "text/plain": [
       "          DEFRTG      OFFRTG  DEFRTG_4th  OFFRTG_4th\n",
       "TEAM                                                \n",
       "ATL   119.079685  118.099391  119.521360  117.226451\n",
       "BKN   115.072300  113.507262  116.530290  116.822819\n",
       "BOS   113.140146  121.705534  114.179364  118.974564\n",
       "CHA   118.156950  109.893448  120.792651  118.644274\n",
       "CHI   115.683230  114.266850  120.344191  118.987953\n",
       "CLE   112.581918  114.127385  114.656883  116.373629\n",
       "DAL   116.163985  116.327075  117.847457  118.221220\n",
       "DEN   114.194702  118.386920  112.865414  117.902310\n",
       "DET   117.069504  111.380757  118.299949  111.720484\n",
       "GSW   113.617552  118.304657  120.264725  119.972529\n",
       "HOU   113.729871  112.087248  114.998123  117.021937\n",
       "IND   118.049208  121.088713  117.189517  119.216601\n",
       "LAC   115.049436  117.154752  119.789668  121.657790\n",
       "LAL   115.960378  115.640786  115.785003  116.157253\n",
       "MEM   112.786556  107.125276  110.079651  112.737351\n",
       "MIA   112.010530  114.704496  116.677311  108.041507\n",
       "MIL   115.329473  116.509026  119.540128  122.807312\n",
       "MIN   109.133051  114.588318  111.358294  116.681798\n",
       "NOP   111.863725  115.581748  118.992810  115.999307\n",
       "NYK   116.116599  116.457204  113.008787  119.673729\n",
       "OKC   113.755800  116.749392  116.492272  123.751331\n",
       "ORL   112.217713  113.484202  111.370580  115.246309\n",
       "PHI   114.393253  116.499087  116.720634  116.849175\n",
       "PHX   116.040821  118.706387  116.933183  110.940465\n",
       "POR   117.328867  112.263105  113.013262  107.060348\n",
       "SAC   113.370081  117.058923  120.436177  115.967401\n",
       "SAS   114.470445  109.858074  119.592669  118.870336\n",
       "TOR   116.290064  112.844952  121.102819  117.457126\n",
       "UTA   120.631265  115.922377  117.975687  119.088192\n",
       "WAS   118.408099  111.236152  115.868746  112.082895"
      ]
     },
     "execution_count": 5,
     "metadata": {},
     "output_type": "execute_result"
    }
   ],
   "source": [
    "teams_3rd = first_3.pivot_table(index = \"TEAM\", values = [\"DEFRTG\",\"OFFRTG\"], aggfunc = np.mean)\n",
    "teams_4th = NBA_4th.pivot_table(index = \"TEAM\", values = [\"DEFRTG\",\"OFFRTG\"], aggfunc = np.mean)\n",
    "teams_3rd[[\"DEFRTG_4th\",\"OFFRTG_4th\"]] = teams_4th[[\"DEFRTG\",\"OFFRTG\"]]\n",
    "teams_3rd"
   ]
  },
  {
   "cell_type": "code",
   "execution_count": 6,
   "metadata": {},
   "outputs": [],
   "source": [
    "samples = teams_3rd.to_numpy()"
   ]
  },
  {
   "cell_type": "code",
   "execution_count": 7,
   "metadata": {},
   "outputs": [
    {
     "data": {
      "text/plain": [
       "KMeans(n_clusters=4, random_state=1)"
      ]
     },
     "execution_count": 7,
     "metadata": {},
     "output_type": "execute_result"
    }
   ],
   "source": [
    "classifier = KMeans(n_clusters = 4, random_state = 1)\n",
    "classifier.fit(samples)\n"
   ]
  },
  {
   "cell_type": "markdown",
   "metadata": {},
   "source": [
    "Four clusters are a good fit"
   ]
  },
  {
   "cell_type": "code",
   "execution_count": 8,
   "metadata": {},
   "outputs": [
    {
     "name": "stderr",
     "output_type": "stream",
     "text": [
      "C:\\Users\\fre_d\\anaconda3\\lib\\site-packages\\sklearn\\cluster\\_kmeans.py:881: UserWarning: KMeans is known to have a memory leak on Windows with MKL, when there are less chunks than available threads. You can avoid it by setting the environment variable OMP_NUM_THREADS=1.\n",
      "  warnings.warn(\n"
     ]
    },
    {
     "data": {
      "text/plain": [
       "[<matplotlib.lines.Line2D at 0x1e410170430>]"
      ]
     },
     "execution_count": 8,
     "metadata": {},
     "output_type": "execute_result"
    },
    {
     "data": {
      "image/png": "[encoded data removed]",
      "text/plain": [
       "<Figure size 432x288 with 1 Axes>"
      ]
     },
     "metadata": {
      "needs_background": "light"
     },
     "output_type": "display_data"
    }
   ],
   "source": [
    "num_clusters = list(range(1,9))\n",
    "inertias =  []\n",
    "\n",
    "for k in num_clusters:\n",
    "  model = KMeans(n_clusters=k)\n",
    "  model.fit(samples)\n",
    "  inertias.append(model.inertia_)\n",
    "  \n",
    "plt.plot(num_clusters, inertias, '-o')"
   ]
  },
  {
   "cell_type": "code",
   "execution_count": 9,
   "metadata": {},
   "outputs": [
    {
     "data": {
      "text/plain": [
       "array([2, 2, 1, 2, 2, 3, 2, 1, 0, 1, 3, 1, 1, 2, 3, 0, 1, 3, 2, 1, 1, 3,\n",
       "       2, 0, 0, 2, 2, 2, 2, 0])"
      ]
     },
     "execution_count": 9,
     "metadata": {},
     "output_type": "execute_result"
    }
   ],
   "source": [
    "classifier.labels_"
   ]
  },
  {
   "cell_type": "code",
   "execution_count": 10,
   "metadata": {},
   "outputs": [
    {
     "name": "stdout",
     "output_type": "stream",
     "text": [
      "[8, 15, 23, 24, 29]\n"
     ]
    }
   ],
   "source": [
    "cluster_zero_indices = []\n",
    "cluster_one_indices = []\n",
    "cluster_two_indices = []\n",
    "cluster_three_indices = []\n",
    "for i in range(len(classifier.labels_)):\n",
    "    if classifier.labels_[i] == 0:\n",
    "        cluster_zero_indices.append(i)\n",
    "    elif classifier.labels_[i] == 1:\n",
    "        cluster_one_indices.append(i)\n",
    "    elif classifier.labels_[i] == 2:\n",
    "        cluster_two_indices.append(i)\n",
    "    elif classifier.labels_[i] == 3:\n",
    "        cluster_three_indices.append(i)        \n",
    "print(cluster_zero_indices)"
   ]
  },
  {
   "cell_type": "markdown",
   "metadata": {},
   "source": [
    "The worst group: bad defense and/or bad offense"
   ]
  },
  {
   "cell_type": "code",
   "execution_count": 11,
   "metadata": {},
   "outputs": [
    {
     "data": {
      "text/html": [
       "<div>\n",
       "<style scoped>\n",
       "    .dataframe tbody tr th:only-of-type {\n",
       "        vertical-align: middle;\n",
       "    }\n",
       "\n",
       "    .dataframe tbody tr th {\n",
       "        vertical-align: top;\n",
       "    }\n",
       "\n",
       "    .dataframe thead th {\n",
       "        text-align: right;\n",
       "    }\n",
       "</style>\n",
       "<table border=\"1\" class=\"dataframe\">\n",
       "  <thead>\n",
       "    <tr style=\"text-align: right;\">\n",
       "      <th></th>\n",
       "      <th>DEFRTG</th>\n",
       "      <th>OFFRTG</th>\n",
       "      <th>DEFRTG_4th</th>\n",
       "      <th>OFFRTG_4th</th>\n",
       "    </tr>\n",
       "    <tr>\n",
       "      <th>TEAM</th>\n",
       "      <th></th>\n",
       "      <th></th>\n",
       "      <th></th>\n",
       "      <th></th>\n",
       "    </tr>\n",
       "  </thead>\n",
       "  <tbody>\n",
       "    <tr>\n",
       "      <th>DET</th>\n",
       "      <td>117.069504</td>\n",
       "      <td>111.380757</td>\n",
       "      <td>118.299949</td>\n",
       "      <td>111.720484</td>\n",
       "    </tr>\n",
       "    <tr>\n",
       "      <th>MIA</th>\n",
       "      <td>112.010530</td>\n",
       "      <td>114.704496</td>\n",
       "      <td>116.677311</td>\n",
       "      <td>108.041507</td>\n",
       "    </tr>\n",
       "    <tr>\n",
       "      <th>PHX</th>\n",
       "      <td>116.040821</td>\n",
       "      <td>118.706387</td>\n",
       "      <td>116.933183</td>\n",
       "      <td>110.940465</td>\n",
       "    </tr>\n",
       "    <tr>\n",
       "      <th>POR</th>\n",
       "      <td>117.328867</td>\n",
       "      <td>112.263105</td>\n",
       "      <td>113.013262</td>\n",
       "      <td>107.060348</td>\n",
       "    </tr>\n",
       "    <tr>\n",
       "      <th>WAS</th>\n",
       "      <td>118.408099</td>\n",
       "      <td>111.236152</td>\n",
       "      <td>115.868746</td>\n",
       "      <td>112.082895</td>\n",
       "    </tr>\n",
       "  </tbody>\n",
       "</table>\n",
       "</div>"
      ],
      "text/plain": [
       "          DEFRTG      OFFRTG  DEFRTG_4th  OFFRTG_4th\n",
       "TEAM                                                \n",
       "DET   117.069504  111.380757  118.299949  111.720484\n",
       "MIA   112.010530  114.704496  116.677311  108.041507\n",
       "PHX   116.040821  118.706387  116.933183  110.940465\n",
       "POR   117.328867  112.263105  113.013262  107.060348\n",
       "WAS   118.408099  111.236152  115.868746  112.082895"
      ]
     },
     "execution_count": 11,
     "metadata": {},
     "output_type": "execute_result"
    }
   ],
   "source": [
    "cluster_zero_df = teams_3rd.iloc[cluster_zero_indices]\n",
    "cluster_zero_df"
   ]
  },
  {
   "cell_type": "markdown",
   "metadata": {},
   "source": [
    "Good teams in the first 3 quarters, but declined in the 4th quarter"
   ]
  },
  {
   "cell_type": "code",
   "execution_count": 12,
   "metadata": {},
   "outputs": [
    {
     "data": {
      "text/html": [
       "<div>\n",
       "<style scoped>\n",
       "    .dataframe tbody tr th:only-of-type {\n",
       "        vertical-align: middle;\n",
       "    }\n",
       "\n",
       "    .dataframe tbody tr th {\n",
       "        vertical-align: top;\n",
       "    }\n",
       "\n",
       "    .dataframe thead th {\n",
       "        text-align: right;\n",
       "    }\n",
       "</style>\n",
       "<table border=\"1\" class=\"dataframe\">\n",
       "  <thead>\n",
       "    <tr style=\"text-align: right;\">\n",
       "      <th></th>\n",
       "      <th>DEFRTG</th>\n",
       "      <th>OFFRTG</th>\n",
       "      <th>DEFRTG_4th</th>\n",
       "      <th>OFFRTG_4th</th>\n",
       "    </tr>\n",
       "    <tr>\n",
       "      <th>TEAM</th>\n",
       "      <th></th>\n",
       "      <th></th>\n",
       "      <th></th>\n",
       "      <th></th>\n",
       "    </tr>\n",
       "  </thead>\n",
       "  <tbody>\n",
       "    <tr>\n",
       "      <th>BOS</th>\n",
       "      <td>113.140146</td>\n",
       "      <td>121.705534</td>\n",
       "      <td>114.179364</td>\n",
       "      <td>118.974564</td>\n",
       "    </tr>\n",
       "    <tr>\n",
       "      <th>DEN</th>\n",
       "      <td>114.194702</td>\n",
       "      <td>118.386920</td>\n",
       "      <td>112.865414</td>\n",
       "      <td>117.902310</td>\n",
       "    </tr>\n",
       "    <tr>\n",
       "      <th>GSW</th>\n",
       "      <td>113.617552</td>\n",
       "      <td>118.304657</td>\n",
       "      <td>120.264725</td>\n",
       "      <td>119.972529</td>\n",
       "    </tr>\n",
       "    <tr>\n",
       "      <th>IND</th>\n",
       "      <td>118.049208</td>\n",
       "      <td>121.088713</td>\n",
       "      <td>117.189517</td>\n",
       "      <td>119.216601</td>\n",
       "    </tr>\n",
       "    <tr>\n",
       "      <th>LAC</th>\n",
       "      <td>115.049436</td>\n",
       "      <td>117.154752</td>\n",
       "      <td>119.789668</td>\n",
       "      <td>121.657790</td>\n",
       "    </tr>\n",
       "    <tr>\n",
       "      <th>MIL</th>\n",
       "      <td>115.329473</td>\n",
       "      <td>116.509026</td>\n",
       "      <td>119.540128</td>\n",
       "      <td>122.807312</td>\n",
       "    </tr>\n",
       "    <tr>\n",
       "      <th>NYK</th>\n",
       "      <td>116.116599</td>\n",
       "      <td>116.457204</td>\n",
       "      <td>113.008787</td>\n",
       "      <td>119.673729</td>\n",
       "    </tr>\n",
       "    <tr>\n",
       "      <th>OKC</th>\n",
       "      <td>113.755800</td>\n",
       "      <td>116.749392</td>\n",
       "      <td>116.492272</td>\n",
       "      <td>123.751331</td>\n",
       "    </tr>\n",
       "  </tbody>\n",
       "</table>\n",
       "</div>"
      ],
      "text/plain": [
       "          DEFRTG      OFFRTG  DEFRTG_4th  OFFRTG_4th\n",
       "TEAM                                                \n",
       "BOS   113.140146  121.705534  114.179364  118.974564\n",
       "DEN   114.194702  118.386920  112.865414  117.902310\n",
       "GSW   113.617552  118.304657  120.264725  119.972529\n",
       "IND   118.049208  121.088713  117.189517  119.216601\n",
       "LAC   115.049436  117.154752  119.789668  121.657790\n",
       "MIL   115.329473  116.509026  119.540128  122.807312\n",
       "NYK   116.116599  116.457204  113.008787  119.673729\n",
       "OKC   113.755800  116.749392  116.492272  123.751331"
      ]
     },
     "execution_count": 12,
     "metadata": {},
     "output_type": "execute_result"
    }
   ],
   "source": [
    "cluster_one_df = teams_3rd.iloc[cluster_one_indices]\n",
    "cluster_one_df"
   ]
  },
  {
   "cell_type": "markdown",
   "metadata": {},
   "source": [
    "Teams with bad offense in the 4th"
   ]
  },
  {
   "cell_type": "code",
   "execution_count": 13,
   "metadata": {},
   "outputs": [
    {
     "data": {
      "text/html": [
       "<div>\n",
       "<style scoped>\n",
       "    .dataframe tbody tr th:only-of-type {\n",
       "        vertical-align: middle;\n",
       "    }\n",
       "\n",
       "    .dataframe tbody tr th {\n",
       "        vertical-align: top;\n",
       "    }\n",
       "\n",
       "    .dataframe thead th {\n",
       "        text-align: right;\n",
       "    }\n",
       "</style>\n",
       "<table border=\"1\" class=\"dataframe\">\n",
       "  <thead>\n",
       "    <tr style=\"text-align: right;\">\n",
       "      <th></th>\n",
       "      <th>DEFRTG</th>\n",
       "      <th>OFFRTG</th>\n",
       "      <th>DEFRTG_4th</th>\n",
       "      <th>OFFRTG_4th</th>\n",
       "    </tr>\n",
       "    <tr>\n",
       "      <th>TEAM</th>\n",
       "      <th></th>\n",
       "      <th></th>\n",
       "      <th></th>\n",
       "      <th></th>\n",
       "    </tr>\n",
       "  </thead>\n",
       "  <tbody>\n",
       "    <tr>\n",
       "      <th>ATL</th>\n",
       "      <td>119.079685</td>\n",
       "      <td>118.099391</td>\n",
       "      <td>119.521360</td>\n",
       "      <td>117.226451</td>\n",
       "    </tr>\n",
       "    <tr>\n",
       "      <th>BKN</th>\n",
       "      <td>115.072300</td>\n",
       "      <td>113.507262</td>\n",
       "      <td>116.530290</td>\n",
       "      <td>116.822819</td>\n",
       "    </tr>\n",
       "    <tr>\n",
       "      <th>CHA</th>\n",
       "      <td>118.156950</td>\n",
       "      <td>109.893448</td>\n",
       "      <td>120.792651</td>\n",
       "      <td>118.644274</td>\n",
       "    </tr>\n",
       "    <tr>\n",
       "      <th>CHI</th>\n",
       "      <td>115.683230</td>\n",
       "      <td>114.266850</td>\n",
       "      <td>120.344191</td>\n",
       "      <td>118.987953</td>\n",
       "    </tr>\n",
       "    <tr>\n",
       "      <th>DAL</th>\n",
       "      <td>116.163985</td>\n",
       "      <td>116.327075</td>\n",
       "      <td>117.847457</td>\n",
       "      <td>118.221220</td>\n",
       "    </tr>\n",
       "    <tr>\n",
       "      <th>LAL</th>\n",
       "      <td>115.960378</td>\n",
       "      <td>115.640786</td>\n",
       "      <td>115.785003</td>\n",
       "      <td>116.157253</td>\n",
       "    </tr>\n",
       "    <tr>\n",
       "      <th>NOP</th>\n",
       "      <td>111.863725</td>\n",
       "      <td>115.581748</td>\n",
       "      <td>118.992810</td>\n",
       "      <td>115.999307</td>\n",
       "    </tr>\n",
       "    <tr>\n",
       "      <th>PHI</th>\n",
       "      <td>114.393253</td>\n",
       "      <td>116.499087</td>\n",
       "      <td>116.720634</td>\n",
       "      <td>116.849175</td>\n",
       "    </tr>\n",
       "    <tr>\n",
       "      <th>SAC</th>\n",
       "      <td>113.370081</td>\n",
       "      <td>117.058923</td>\n",
       "      <td>120.436177</td>\n",
       "      <td>115.967401</td>\n",
       "    </tr>\n",
       "    <tr>\n",
       "      <th>SAS</th>\n",
       "      <td>114.470445</td>\n",
       "      <td>109.858074</td>\n",
       "      <td>119.592669</td>\n",
       "      <td>118.870336</td>\n",
       "    </tr>\n",
       "    <tr>\n",
       "      <th>TOR</th>\n",
       "      <td>116.290064</td>\n",
       "      <td>112.844952</td>\n",
       "      <td>121.102819</td>\n",
       "      <td>117.457126</td>\n",
       "    </tr>\n",
       "    <tr>\n",
       "      <th>UTA</th>\n",
       "      <td>120.631265</td>\n",
       "      <td>115.922377</td>\n",
       "      <td>117.975687</td>\n",
       "      <td>119.088192</td>\n",
       "    </tr>\n",
       "  </tbody>\n",
       "</table>\n",
       "</div>"
      ],
      "text/plain": [
       "          DEFRTG      OFFRTG  DEFRTG_4th  OFFRTG_4th\n",
       "TEAM                                                \n",
       "ATL   119.079685  118.099391  119.521360  117.226451\n",
       "BKN   115.072300  113.507262  116.530290  116.822819\n",
       "CHA   118.156950  109.893448  120.792651  118.644274\n",
       "CHI   115.683230  114.266850  120.344191  118.987953\n",
       "DAL   116.163985  116.327075  117.847457  118.221220\n",
       "LAL   115.960378  115.640786  115.785003  116.157253\n",
       "NOP   111.863725  115.581748  118.992810  115.999307\n",
       "PHI   114.393253  116.499087  116.720634  116.849175\n",
       "SAC   113.370081  117.058923  120.436177  115.967401\n",
       "SAS   114.470445  109.858074  119.592669  118.870336\n",
       "TOR   116.290064  112.844952  121.102819  117.457126\n",
       "UTA   120.631265  115.922377  117.975687  119.088192"
      ]
     },
     "execution_count": 13,
     "metadata": {},
     "output_type": "execute_result"
    }
   ],
   "source": [
    "cluster_two_df = teams_3rd.iloc[cluster_two_indices]\n",
    "cluster_two_df"
   ]
  },
  {
   "cell_type": "markdown",
   "metadata": {},
   "source": [
    "Elite group: good in the first 3 and in the 4th improved their defense and/or offense"
   ]
  },
  {
   "cell_type": "code",
   "execution_count": 14,
   "metadata": {},
   "outputs": [
    {
     "data": {
      "text/html": [
       "<div>\n",
       "<style scoped>\n",
       "    .dataframe tbody tr th:only-of-type {\n",
       "        vertical-align: middle;\n",
       "    }\n",
       "\n",
       "    .dataframe tbody tr th {\n",
       "        vertical-align: top;\n",
       "    }\n",
       "\n",
       "    .dataframe thead th {\n",
       "        text-align: right;\n",
       "    }\n",
       "</style>\n",
       "<table border=\"1\" class=\"dataframe\">\n",
       "  <thead>\n",
       "    <tr style=\"text-align: right;\">\n",
       "      <th></th>\n",
       "      <th>DEFRTG</th>\n",
       "      <th>OFFRTG</th>\n",
       "      <th>DEFRTG_4th</th>\n",
       "      <th>OFFRTG_4th</th>\n",
       "    </tr>\n",
       "    <tr>\n",
       "      <th>TEAM</th>\n",
       "      <th></th>\n",
       "      <th></th>\n",
       "      <th></th>\n",
       "      <th></th>\n",
       "    </tr>\n",
       "  </thead>\n",
       "  <tbody>\n",
       "    <tr>\n",
       "      <th>CLE</th>\n",
       "      <td>112.581918</td>\n",
       "      <td>114.127385</td>\n",
       "      <td>114.656883</td>\n",
       "      <td>116.373629</td>\n",
       "    </tr>\n",
       "    <tr>\n",
       "      <th>HOU</th>\n",
       "      <td>113.729871</td>\n",
       "      <td>112.087248</td>\n",
       "      <td>114.998123</td>\n",
       "      <td>117.021937</td>\n",
       "    </tr>\n",
       "    <tr>\n",
       "      <th>MEM</th>\n",
       "      <td>112.786556</td>\n",
       "      <td>107.125276</td>\n",
       "      <td>110.079651</td>\n",
       "      <td>112.737351</td>\n",
       "    </tr>\n",
       "    <tr>\n",
       "      <th>MIN</th>\n",
       "      <td>109.133051</td>\n",
       "      <td>114.588318</td>\n",
       "      <td>111.358294</td>\n",
       "      <td>116.681798</td>\n",
       "    </tr>\n",
       "    <tr>\n",
       "      <th>ORL</th>\n",
       "      <td>112.217713</td>\n",
       "      <td>113.484202</td>\n",
       "      <td>111.370580</td>\n",
       "      <td>115.246309</td>\n",
       "    </tr>\n",
       "  </tbody>\n",
       "</table>\n",
       "</div>"
      ],
      "text/plain": [
       "          DEFRTG      OFFRTG  DEFRTG_4th  OFFRTG_4th\n",
       "TEAM                                                \n",
       "CLE   112.581918  114.127385  114.656883  116.373629\n",
       "HOU   113.729871  112.087248  114.998123  117.021937\n",
       "MEM   112.786556  107.125276  110.079651  112.737351\n",
       "MIN   109.133051  114.588318  111.358294  116.681798\n",
       "ORL   112.217713  113.484202  111.370580  115.246309"
      ]
     },
     "execution_count": 14,
     "metadata": {},
     "output_type": "execute_result"
    }
   ],
   "source": [
    "cluster_three_df = teams_3rd.iloc[cluster_three_indices]\n",
    "cluster_three_df"
   ]
  }
 ],
 "metadata": {
  "kernelspec": {
   "display_name": "Python 3 (ipykernel)",
   "language": "python",
   "name": "python3"
  },
  "language_info": {
   "codemirror_mode": {
    "name": "ipython",
    "version": 3
   },
   "file_extension": ".py",
   "mimetype": "text/x-python",
   "name": "python",
   "nbconvert_exporter": "python",
   "pygments_lexer": "ipython3",
   "version": "3.9.7"
  }
 },
 "nbformat": 4,
 "nbformat_minor": 4
}
